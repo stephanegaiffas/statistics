{
 "cells": [
  {
   "cell_type": "markdown",
   "metadata": {},
   "source": [
    "## Dessin relaxation convexe"
   ]
  },
  {
   "cell_type": "code",
   "execution_count": null,
   "metadata": {
    "scrolled": false
   },
   "outputs": [],
   "source": [
    "import numpy as np\n",
    "import matplotlib.pyplot as plt\n",
    "plt.style.use('default')\n",
    "\n",
    "plt.figure(figsize=(4, 3))\n",
    "n = 1000\n",
    "eps = 0.025\n",
    "\n",
    "x = np.linspace(-1, 1, n)\n",
    "plt.plot(x, np.abs(x), label=r\"$\\|\\| x \\|\\|_1$\", lw=3, c=\"C1\", \n",
    "         alpha=0.8)\n",
    "\n",
    "x = np.linspace(-1, -eps, n)\n",
    "y = np.ones(n)\n",
    "plt.plot(x, y, lw=3, c=\"C0\")\n",
    "x = np.linspace(eps, 1, n)\n",
    "y = np.ones(n)\n",
    "plt.plot(x, y, lw=3, c=\"C0\", label=r\"$\\|\\| x \\|\\|_0$\")\n",
    "plt.scatter([0.0], [0.0], s=70, c=\"C0\")\n",
    "plt.scatter([0.0], [1.0], c=\"C0\", marker=\"x\", s=80)\n",
    "\n",
    "plt.plot(-np.ones(n), np.linspace(0, 1, n), ls=\"dotted\", \n",
    "         alpha=0.7, lw=1, c=\"black\")\n",
    "plt.plot(np.ones(n), np.linspace(0, 1, n), ls=\"dotted\", \n",
    "         alpha=0.7, lw=1, c=\"black\")\n",
    "\n",
    "plt.legend(fontsize=12, loc=\"lower left\")\n",
    "plt.tight_layout()\n",
    "plt.savefig(\"l0_l1.pdf\")"
   ]
  },
  {
   "cell_type": "markdown",
   "metadata": {},
   "source": [
    "## Dessin soft-thresholding"
   ]
  },
  {
   "cell_type": "code",
   "execution_count": null,
   "metadata": {},
   "outputs": [],
   "source": [
    "import numpy as np\n",
    "import matplotlib.pyplot as plt\n",
    "plt.style.use('default')\n",
    "\n",
    "plt.figure(figsize=(4, 3))\n",
    "n = 1000\n",
    "eps = 0.025\n",
    "\n",
    "x = np.linspace(-3, 3, n)\n",
    "plt.plot(x, x, label=\"Identity\", lw=1, c=\"black\", ls=\"dotted\", alpha=0.8)\n",
    "\n",
    "lbda = 1.0\n",
    "y = x / (1 + lbda)\n",
    "plt.plot(x, y, lw=3, label=\"Shrinkage\")\n",
    "\n",
    "y = np.sign(x) * (np.abs(x) - lbda) * (np.abs(x) > lbda)\n",
    "plt.plot(x, y, lw=3, label=\"Soft thresholding\")\n",
    "\n",
    "# lgd = plt.legend(fontsize=14, loc=\"center right\", bbox_to_anchor=(1.95, 0.5))\n",
    "plt.legend(fontsize=12)\n",
    "\n",
    "plt.tight_layout()\n",
    "# plt.savefig(\"soft_thresholding.pdf\", bbox_extra_artists=(lgd,), bbox_inches='tight')\n",
    "plt.savefig(\"soft_thresholding.pdf\")"
   ]
  },
  {
   "cell_type": "markdown",
   "metadata": {},
   "source": [
    "## Dessin sous-differentielle"
   ]
  },
  {
   "cell_type": "code",
   "execution_count": null,
   "metadata": {},
   "outputs": [],
   "source": [
    "import numpy as np\n",
    "import matplotlib.pyplot as plt\n",
    "plt.style.use('default')\n",
    "\n",
    "plt.figure(figsize=(4, 3))\n",
    "n = 1000\n",
    "\n",
    "x = np.linspace(-4, 2, n)\n",
    "c = 0.2\n",
    "y = c * x ** 2 * (x <= -1) + (x + 1 + c) * (x > -1)\n",
    "plt.plot(x, y, lw=4, color=\"black\", label=r\"\")\n",
    "\n",
    "# le point non-differentiable c'est (-1, 0.2)\n",
    "\n",
    "d1 = x + 1 + c\n",
    "plt.plot(x, d1, lw=4, alpha=1, ls=\"dotted\", label=r\"$x + 1.2$\")\n",
    "\n",
    "d2 = -0.4 * x - 0.4 + c\n",
    "plt.plot(x, d2, lw=4, alpha=1, ls=\"dotted\", label=r\"$-0.4 x - 0.2$\")\n",
    "\n",
    "for slope in np.linspace(-0.4, 1, 20):\n",
    "    d = slope * x + slope + c\n",
    "    plt.plot(x, d, lw=1, alpha=0.5, ls=\"dotted\", color=\"black\")\n",
    "\n",
    "plt.legend(fontsize=12)\n",
    "plt.tight_layout()\n",
    "plt.savefig(\"subdifferential.pdf\")"
   ]
  },
  {
   "cell_type": "markdown",
   "metadata": {},
   "source": [
    "## Dessin sous-differentielle du max"
   ]
  },
  {
   "cell_type": "code",
   "execution_count": null,
   "metadata": {},
   "outputs": [],
   "source": [
    "import numpy as np\n",
    "from scipy.optimize import fmin_bfgs\n",
    "import matplotlib.pyplot as plt\n",
    "plt.style.use('default')\n",
    "\n",
    "plt.figure(figsize=(4, 3))\n",
    "n = 1000\n",
    "\n",
    "f1 = lambda x: 0.5 * (x + 1) ** 2\n",
    "df1 = lambda x: x + 1\n",
    "f2 = lambda x: 0.7 * (x - 1) ** 2\n",
    "df2 = lambda x: 1.4 * (x - 1)\n",
    "f1_max_f2 = lambda x: np.maximum(f1(x), f2(x))\n",
    "\n",
    "def tangent(x, t, f, df):\n",
    "    a = df(t)\n",
    "    b = f(t) - df(t) * t\n",
    "    return a * x + b\n",
    "\n",
    "# La flemme...\n",
    "x0 = fmin_bfgs(f=lambda x: max(f1(x), f2(x)), x0=0.)[0]\n",
    "\n",
    "tangent1 = lambda x: tangent(x, -1.5, f1, df1)\n",
    "tangent2 = lambda x: tangent(x, 2.1, f2, df2)\n",
    "\n",
    "tangent_max1 = lambda x: tangent(x, x0, f1, df1)\n",
    "tangent_max2 = lambda x: tangent(x, x0, f2, df2)\n",
    "\n",
    "x = np.linspace(-3, 3.2, n)\n",
    "line = plt.plot(x, f1(x), lw=4, label=r\"$\\phi_1$\")\n",
    "x = np.linspace(-2.8, 0.1, n)\n",
    "plt.plot(x, tangent1(x), lw=2, ls=\"dotted\", alpha=1, color=line[0].get_color())\n",
    "\n",
    "x = np.linspace(-3, 3.2, n)\n",
    "line = plt.plot(x, f2(x), lw=4, label=r\"$\\phi_2$\")\n",
    "x = np.linspace(1, 3.2, n)\n",
    "plt.plot(x, tangent2(x), lw=2, ls=\"dotted\", alpha=1, color=line[0].get_color())\n",
    "\n",
    "x = np.linspace(-3, 3.2, n)\n",
    "plt.plot(x, f1_max_f2(x), lw=2, color=\"black\", alpha=1, label=r\"$\\max(\\phi_1,\\phi_2)$\")\n",
    "\n",
    "x = np.linspace(-1.2, 1.4, n)\n",
    "plt.plot(x, tangent_max1(x), lw=2, ls=\"dotted\", alpha=1, color=\"black\")\n",
    "plt.plot(x, tangent_max2(x), lw=2, ls=\"dotted\", alpha=1, color=\"black\")\n",
    "\n",
    "for slope in np.linspace(df2(x0), df1(x0), 10):\n",
    "    b = f1(x0) - slope * x0    \n",
    "    y = slope * x + b\n",
    "    plt.plot(x, y, lw=1, ls=\"dotted\", alpha=0.5, color=\"black\")\n",
    "    \n",
    "plt.ylim((-2.5, 9))\n",
    "plt.legend(fontsize=12)\n",
    "plt.tight_layout()\n",
    "plt.savefig(\"subdifferential-max.pdf\")"
   ]
  },
  {
   "cell_type": "markdown",
   "metadata": {},
   "source": [
    "## Dessin des differentes boules"
   ]
  },
  {
   "cell_type": "code",
   "execution_count": null,
   "metadata": {},
   "outputs": [],
   "source": [
    "plt.figure(figsize=(2, 6))\n",
    "\n",
    "n = 1000\n",
    "alpha = np.linspace(0, 2 * np.pi, n, endpoint=True)\n",
    "\n",
    "x = np.cos(alpha)\n",
    "y = np.sin(alpha)\n",
    "\n",
    "vecs = np.array([x,y])\n",
    "ps = [0.5, 1, 3/2, 2]\n",
    "n_plots = len(ps)\n",
    "names = [\"1/2\", \"1\", \"3/2\", \"2\"] \n",
    "\n",
    "for i, (p, name) in enumerate(zip(ps, names)):\n",
    "\n",
    "    plt.subplot(n_plots, 1, i+1)\n",
    "    norms = np.sum(np.abs(vecs)**p, axis=0)**(1/p)\n",
    "    norm_vecs = vecs / norms\n",
    "\n",
    "    plt.gca().set_aspect(\"equal\")\n",
    "    plt.fill(norm_vecs[0], norm_vecs[1], linewidth=1, \n",
    "             edgecolor=\"black\", alpha=0.5)\n",
    "    \n",
    "    plt.title(r\"$\\ell_{%s}$-ball\" % name, fontsize=12)\n",
    "    plt.axis(\"off\")\n",
    "\n",
    "plt.tight_layout()\n",
    "plt.savefig(\"balls.pdf\")"
   ]
  },
  {
   "cell_type": "code",
   "execution_count": null,
   "metadata": {},
   "outputs": [],
   "source": []
  }
 ],
 "metadata": {
  "kernelspec": {
   "display_name": "Python 3",
   "language": "python",
   "name": "python3"
  },
  "language_info": {
   "codemirror_mode": {
    "name": "ipython",
    "version": 3
   },
   "file_extension": ".py",
   "mimetype": "text/x-python",
   "name": "python",
   "nbconvert_exporter": "python",
   "pygments_lexer": "ipython3",
   "version": "3.7.9"
  }
 },
 "nbformat": 4,
 "nbformat_minor": 4
}
